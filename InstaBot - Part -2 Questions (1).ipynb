{
 "cells": [
  {
   "cell_type": "markdown",
   "id": "63eb0b1e",
   "metadata": {},
   "source": [
    "# InstaBot - Part 2"
   ]
  },
  {
   "cell_type": "code",
   "execution_count": 1,
   "id": "ef60133d",
   "metadata": {},
   "outputs": [],
   "source": [
    "from selenium import webdriver\n",
    "from selenium.webdriver.common.keys import Keys\n",
    "from selenium.webdriver.common.by import By\n",
    "from selenium.webdriver.support import expected_conditions as EC\n",
    "from selenium.webdriver.support.wait import WebDriverWait\n",
    "from webdriver_manager.chrome import ChromeDriverManager\n",
    "from selenium.common.exceptions import NoSuchElementException\n",
    "from selenium.common.exceptions import StaleElementReferenceException\n",
    "\n",
    "from bs4 import BeautifulSoup\n",
    "import time\n",
    "import requests\n",
    "import re"
   ]
  },
  {
   "cell_type": "code",
   "execution_count": 2,
   "id": "bdaef2d9",
   "metadata": {},
   "outputs": [],
   "source": [
    "import matplotlib.pyplot as plt  # for plot a graph \n",
    "import pandas as pd              # for create DataFrame \n",
    "import numpy as np"
   ]
  },
  {
   "cell_type": "code",
   "execution_count": 3,
   "id": "55f1999e",
   "metadata": {},
   "outputs": [],
   "source": [
    "driver = webdriver.Chrome(ChromeDriverManager().install())\n",
    "# for maximize chrome page\n",
    "driver.maximize_window()"
   ]
  },
  {
   "cell_type": "code",
   "execution_count": 4,
   "id": "b730b4cb",
   "metadata": {},
   "outputs": [],
   "source": [
    "def Insta_login(username, passwoard):\n",
    "    url = \"https://www.instagram.com/accounts/login/?\"\n",
    "    # instgram login page\n",
    "    driver.get(url)\n",
    "    driver.implicitly_wait(3)\n",
    "    # input username \n",
    "    name = driver.find_element_by_name('username').send_keys(username)\n",
    "    # input passward\n",
    "    pssward = driver.find_element_by_name('password').send_keys(passwoard)\n",
    "    driver.implicitly_wait(6)\n",
    "    # hit Enter login button using xpath\n",
    "    driver.find_element_by_xpath('//*[@id=\"loginForm\"]/div/div[3]/button').click()\n",
    "    \n",
    "    # after login hit Enter Not Now button\n",
    "    try:\n",
    "        wait = WebDriverWait(driver, 6)\n",
    "        not_now_btn = wait.until(EC.element_to_be_clickable((By.XPATH, \"//button[contains(text(), 'Not Now')]\"))).click()\n",
    "        wait = WebDriverWait(driver, 6)\n",
    "        not_now_btn2 = wait.until(EC.element_to_be_clickable((By.XPATH, \"//button[contains(text(), 'Not Now')]\"))).click()\n",
    "    except NoSuchElementException:\n",
    "        pass\n",
    "    "
   ]
  },
  {
   "cell_type": "code",
   "execution_count": 5,
   "id": "c92855f5",
   "metadata": {},
   "outputs": [],
   "source": [
    "username = 'SAMPLE USERNAME'        # \"SAMPLE USERNAME\"\n",
    "passwoard = 'SAMPLE PASSWORD'       # \"SAMPLE PASSWORD\"\n",
    "Insta_login(username, passwoard)"
   ]
  },
  {
   "cell_type": "markdown",
   "id": "753a29e7",
   "metadata": {},
   "source": [
    "# Question-1 Now your friend has followed a lot of different food bloggers, he needs to analyse the habits of these bloggers."
   ]
  },
  {
   "cell_type": "markdown",
   "id": "c5659533",
   "metadata": {},
   "source": [
    "#### 1.1-From the list of instagram handles you obtained when you searched ‘food’ in previous project. Open the first 10 handles and find the top 5 which have the highest number of followers"
   ]
  },
  {
   "cell_type": "markdown",
   "id": "fe05adaf",
   "metadata": {},
   "source": [
    "From InstaBot part-1 Question-2 search 'food' and find first 10 handles list"
   ]
  },
  {
   "cell_type": "code",
   "execution_count": 6,
   "id": "9cffeacb",
   "metadata": {},
   "outputs": [],
   "source": [
    "def search_food():\n",
    "    # type 'food' in search bar \n",
    "    search_bar = WebDriverWait(driver, 10).until(EC.element_to_be_clickable((By.XPATH, \"//input[@placeholder='Search']\")))\n",
    "    search_bar.send_keys('food')\n",
    "    # for loading page we to wait\n",
    "    driver.implicitly_wait(2)"
   ]
  },
  {
   "cell_type": "code",
   "execution_count": 7,
   "id": "dc1123e8",
   "metadata": {},
   "outputs": [],
   "source": [
    "def first10_handles():\n",
    "    #call search_food function\n",
    "    search_food()\n",
    "    # take time for loading page\n",
    "    time.sleep(2)\n",
    "    follow = WebDriverWait(driver, 10).until(EC.presence_of_all_elements_located((By.XPATH, \"//div[starts-with(@class, '_abnx _aeul')]/div\")))\n",
    "    foodBlogger = []\n",
    "    for i in follow:\n",
    "        # extract data using BeautifulSoup\n",
    "        data = BeautifulSoup(i.get_attribute('innerHTML'), 'html.parser')\n",
    "        food = data.find('div', {'class':'_aacl _aaco _aacw _adda _aacx _aad6'}).string\n",
    "        if '#' not in food:\n",
    "            foodBlogger.append(food)\n",
    "            #print(food)\n",
    "        if len(foodBlogger) == 10:\n",
    "            break\n",
    "    return foodBlogger"
   ]
  },
  {
   "cell_type": "code",
   "execution_count": 8,
   "id": "c47fb9a9",
   "metadata": {},
   "outputs": [],
   "source": [
    "first10_handlesList = first10_handles()"
   ]
  },
  {
   "cell_type": "code",
   "execution_count": 9,
   "id": "32931c80",
   "metadata": {},
   "outputs": [],
   "source": [
    "# after Extracted all food search ,clear search bar\n",
    "driver.find_element_by_xpath('//div[starts-with(@class, \"_aawn\")]').click()"
   ]
  },
  {
   "cell_type": "markdown",
   "id": "8f732bf6",
   "metadata": {},
   "source": [
    "#### Get followers of first 10 handles"
   ]
  },
  {
   "cell_type": "code",
   "execution_count": 12,
   "id": "5d2ab256",
   "metadata": {},
   "outputs": [],
   "source": [
    "def Followers_Of_first10Handles(first10_handlesList):\n",
    "    no_of_followers = {}\n",
    "    # find all followers of first 10 handles\n",
    "    for i in first10_handlesList:\n",
    "        # search food handles\n",
    "        search = WebDriverWait(driver, 10).until(EC.element_to_be_clickable((By.XPATH, \"//input[@placeholder='Search']\")))\n",
    "        search.send_keys(i)\n",
    "        \n",
    "        enter = WebDriverWait(driver, 10).until(EC.element_to_be_clickable((By.XPATH, \"//div[starts-with(@class,'_abnx')]/div\")))\n",
    "        enter.click()\n",
    "\n",
    "        # get followers\n",
    "        follower = WebDriverWait(driver, 10).until(EC.presence_of_element_located((By.XPATH, \"//li[2][@class='_aa_5']//span\")))\n",
    "        f = follower.get_attribute('title')\n",
    "        flwr = int(f.replace(\",\", \"\")) # remove comma in followers\n",
    "        no_of_followers[i] = flwr\n",
    "        time.sleep(1)\n",
    "        \n",
    "        # clear search box using xpath\n",
    "        search = driver.find_element_by_xpath('//span[starts-with(@class, \"_aawc\")]').click()\n",
    "        time.sleep(1)\n",
    "        driver.find_element_by_xpath('//div[starts-with(@class, \"_aawn\")]').click()\n",
    "        # back page\n",
    "        driver.back()\n",
    "        time.sleep(2)\n",
    "    return no_of_followers"
   ]
  },
  {
   "cell_type": "code",
   "execution_count": 13,
   "id": "5e2872c9",
   "metadata": {},
   "outputs": [],
   "source": [
    "# find followers of first 10 handles using first10_handlesList list\n",
    "Followers_Of_10Handles = Followers_Of_first10Handles(first10_handlesList)"
   ]
  },
  {
   "cell_type": "markdown",
   "id": "cff90e7d",
   "metadata": {},
   "source": [
    "#### After getting first 10 handles and its followers ,Now we need to find top 5 handles which have highest number of followers "
   ]
  },
  {
   "cell_type": "code",
   "execution_count": 14,
   "id": "e4442934",
   "metadata": {},
   "outputs": [],
   "source": [
    "def top_five_handles(Followers_Of_10Handles):\n",
    "    # sort the Followers_Of_10Handles dict in order to numbers of followers\n",
    "    Dict = dict(sorted(Followers_Of_10Handles.items(), key = lambda item: item[1]))\n",
    "    Dict = dict(list(Dict.items())[5:])\n",
    "    bloggers = {}\n",
    "    # to find top 5 handles which have highest number of followers, we need to reverse dict\n",
    "    for k in reversed(list(Dict.keys())):\n",
    "        bloggers[k] = Dict[k]\n",
    "    return bloggers"
   ]
  },
  {
   "cell_type": "code",
   "execution_count": 15,
   "id": "d02f383e",
   "metadata": {},
   "outputs": [
    {
     "name": "stdout",
     "output_type": "stream",
     "text": [
      "foodgod ---> tatal  3886062 followers\n",
      "foodinsider ---> tatal  2320813 followers\n",
      "foodie_incarnate ---> tatal  1374495 followers\n",
      "dilsefoodie ---> tatal  1027793 followers\n",
      "foodbible ---> tatal  934928 followers\n"
     ]
    }
   ],
   "source": [
    "# here I am taking Followers_Of_10Handles dict\n",
    "Top_5_handles = top_five_handles(Followers_Of_10Handles)\n",
    "for key in Top_5_handles:\n",
    "    print(key,'--->', 'tatal ', Top_5_handles[key], 'followers')"
   ]
  },
  {
   "cell_type": "markdown",
   "id": "9cfc310a",
   "metadata": {},
   "source": [
    "### 1.2-Now Find the number of posts these handles have done in the previous 3 days."
   ]
  },
  {
   "cell_type": "code",
   "execution_count": 16,
   "id": "f1fd74b6",
   "metadata": {},
   "outputs": [],
   "source": [
    "def pre_three_days_posts(Top_5_handles):\n",
    "    for i in Top_5_handles:\n",
    "        # search food bloger\n",
    "        search = WebDriverWait(driver, 10).until(EC.element_to_be_clickable((By.XPATH, \"//input[@placeholder='Search']\")))\n",
    "        search.send_keys(i)\n",
    "    \n",
    "        # hit Enter post\n",
    "        driver.implicitly_wait(1)\n",
    "        enter = WebDriverWait(driver, 10).until(EC.element_to_be_clickable((By.XPATH, \"//div[starts-with(@class,'_abnx')]/div\")))\n",
    "        enter.click()\n",
    "    \n",
    "        time.sleep(1)\n",
    "        # go to post\n",
    "        enter_post = WebDriverWait(driver, 10).until(EC.presence_of_element_located((By.XPATH, \"//div[contains(@class, '_aabd _aa8k _aanf')]\")))  \n",
    "        enter_post.click() \n",
    "        time.sleep(1)\n",
    "    \n",
    "        count = 1\n",
    "        while True:\n",
    "            # find post using xpath\n",
    "            wait = WebDriverWait(driver, 10)\n",
    "            post = wait.until(EC.presence_of_element_located((By.XPATH, \"//time[@class='_aaqe']\")))\n",
    "            time.sleep(1)\n",
    "            days = post.get_attribute('innerHTML')\n",
    "            if days=='1 day ago' or days=='2 days ago' or days=='3 days ago' or 'hours' in days or 'hour' in days or 'minutes' in days:\n",
    "                count += 1\n",
    "                driver.implicitly_wait(3)\n",
    "                driver.find_element_by_xpath(\"//div[contains(@class,' _aaqg _aaqh')]/button\").click()\n",
    "        \n",
    "            else:\n",
    "                # back page\n",
    "                driver.back()\n",
    "                # clear search box using xpath\n",
    "                search = driver.find_element_by_xpath('//span[starts-with(@class, \"_aawc\")]').click()\n",
    "                time.sleep(1)\n",
    "                print(i,'-->',count-1,' number of posts have done in the previous 3 days')\n",
    "                count = 1\n",
    "                break\n",
    "        driver.back()\n",
    "        time.sleep(1)\n",
    "        # clear search box using xpath\n",
    "        search = driver.find_element_by_xpath('//span[starts-with(@class, \"_aawc\")]').click()\n",
    "        time.sleep(1)\n",
    "        driver.find_element_by_xpath('//div[starts-with(@class, \"_aawn\")]').click()\n",
    "        # back page\n",
    "        time.sleep(1)"
   ]
  },
  {
   "cell_type": "code",
   "execution_count": 17,
   "id": "78b87cc5",
   "metadata": {},
   "outputs": [
    {
     "name": "stdout",
     "output_type": "stream",
     "text": [
      "foodgod --> 0  number of posts have done in the previous 3 days\n",
      "foodinsider --> 3  number of posts have done in the previous 3 days\n",
      "foodie_incarnate --> 4  number of posts have done in the previous 3 days\n",
      "dilsefoodie --> 6  number of posts have done in the previous 3 days\n",
      "foodbible --> 1  number of posts have done in the previous 3 days\n"
     ]
    }
   ],
   "source": [
    "pre_three_days_posts(Top_5_handles)"
   ]
  },
  {
   "cell_type": "markdown",
   "id": "ba463c7a",
   "metadata": {},
   "source": [
    "### 1.3-Depict this information using a suitable graph."
   ]
  },
  {
   "cell_type": "markdown",
   "id": "4ed0b676",
   "metadata": {},
   "source": [
    "#### Plot a bar graph using the top 5 which have the highest number of followers"
   ]
  },
  {
   "cell_type": "code",
   "execution_count": 18,
   "id": "8d58c09c",
   "metadata": {},
   "outputs": [
    {
     "data": {
      "image/png": "[encoded data removed]",
      "text/plain": [
       "<Figure size 576x432 with 1 Axes>"
      ]
     },
     "metadata": {
      "needs_background": "light"
     },
     "output_type": "display_data"
    }
   ],
   "source": [
    "Top5 = []\n",
    "no_of_follower = []\n",
    "# here I am taking dict named Top_5_handles \n",
    "for key in Top_5_handles:\n",
    "    Top5.append(key)\n",
    "    no_of_follower.append(Top_5_handles[key])\n",
    "    \n",
    "\n",
    "\n",
    "plt.subplots(figsize=(8, 6))\n",
    "# plot a bar using 5 handles and numbers of followers\n",
    "plt.bar(Top5, no_of_follower, color = 'r')\n",
    "plt.xticks(rotation=45)\n",
    "plt.yticks(size=12)\n",
    "plt.title('Top 5 handles have the highest number of followers', size=12)\n",
    "plt.xlabel('Users', size=12)\n",
    "plt.ylabel('Number of Posts', size=12)\n",
    "plt.grid()\n",
    "plt.show()"
   ]
  },
  {
   "cell_type": "markdown",
   "id": "c700c2a7",
   "metadata": {},
   "source": [
    "# Question-2 Your friend also needs a list of hashtags that he should use in his posts."
   ]
  },
  {
   "cell_type": "markdown",
   "id": "12af6ceb",
   "metadata": {},
   "source": [
    "### 2.1-Open the 5 handles you obtained in the last question, and scrape the content of the first 10 posts of each handle."
   ]
  },
  {
   "cell_type": "code",
   "execution_count": 19,
   "id": "5b9f704a",
   "metadata": {},
   "outputs": [],
   "source": [
    "def Five_handles_Contents(Top5):\n",
    "    contents = []\n",
    "    # taking the 5 handles list named->Top5 from que 1.3 \n",
    "    for i in Top5:\n",
    "        # search food bloger\n",
    "        search = WebDriverWait(driver, 10).until(EC.element_to_be_clickable((By.XPATH, \"//input[@placeholder='Search']\")))\n",
    "        search.send_keys(i)\n",
    "    \n",
    "        # hit Enter post\n",
    "        driver.implicitly_wait(2)\n",
    "        enter = WebDriverWait(driver, 10).until(EC.element_to_be_clickable((By.XPATH, \"//div[starts-with(@class,'_abnx')]/div\")))\n",
    "        enter.click()\n",
    "    \n",
    "        time.sleep(1)\n",
    "        # go to post\n",
    "        enter_post = WebDriverWait(driver, 10).until(EC.presence_of_element_located((By.XPATH, \"//div[contains(@class, '_aabd _aa8k _aanf')]\")))  \n",
    "        enter_post.click() \n",
    "        time.sleep(2)\n",
    "    \n",
    "        for i in range(10):\n",
    "            # find content\n",
    "            content = WebDriverWait(driver, 10).until(EC.presence_of_element_located((By.XPATH, \"//span[contains(@class, '_aacl _aaco _aacu _aacx _aad7 _aade')]\")))  \n",
    "            c = content.get_attribute('textContent')\n",
    "            contents.append(c)\n",
    "            \n",
    "            time.sleep(0.5)\n",
    "            # go to next post\n",
    "            driver.find_element_by_xpath(\"//div[contains(@class,' _aaqg _aaqh')]/button\").click()\n",
    "            time.sleep(0.5)\n",
    "        \n",
    "        driver.back()\n",
    "        time.sleep(1)\n",
    "        # clear search box using xpath\n",
    "        search = driver.find_element_by_xpath('//span[starts-with(@class, \"_aawc\")]').click()\n",
    "        time.sleep(1)\n",
    "        driver.find_element_by_xpath('//div[starts-with(@class, \"_aawn\")]').click()\n",
    "        # back page\n",
    "        time.sleep(1)\n",
    "    \n",
    "    return contents"
   ]
  },
  {
   "cell_type": "code",
   "execution_count": 20,
   "id": "b347bee6",
   "metadata": {},
   "outputs": [],
   "source": [
    "# I am using top5 handles list from Que 1.3\n",
    "contents = Five_handles_Contents(Top5)"
   ]
  },
  {
   "cell_type": "code",
   "execution_count": 21,
   "id": "7644bfcc",
   "metadata": {
    "scrolled": false
   },
   "outputs": [
    {
     "name": "stdout",
     "output_type": "stream",
     "text": [
      "STILL the best bloomin’ onion!!\n",
      "------------------------------------------------------------------------------------------\n",
      "If you liked Choco Tacos, you gonna LOVE THIS!!\n",
      "------------------------------------------------------------------------------------------\n",
      "How cool is this thing??\n",
      "------------------------------------------------------------------------------------------\n",
      "Don’t talk 🤫.. just watch📹 @that_madras_guys\n",
      "------------------------------------------------------------------------------------------\n",
      "The ONLY CHICKEN PARM📹 @cheesy_travelers\n",
      "------------------------------------------------------------------------------------------\n",
      "THIS is a BENTO BOX!! Step up your game Japanese delivery restaurants 🍱📹 @mariona_foodie\n",
      "------------------------------------------------------------------------------------------\n",
      "Cronut or this supreme 🥐??\n",
      "------------------------------------------------------------------------------------------\n",
      "Edible skull almost killed me📹 @unlokt\n",
      "------------------------------------------------------------------------------------------\n",
      "Why didn’t I think of this…Inspo @greenteasoylattee\n",
      "------------------------------------------------------------------------------------------\n",
      "When basic becomes NOT basic!! 📹 @bhukkadkhaneka\n",
      "------------------------------------------------------------------------------------------\n",
      "Paella is one of Spain's most iconic dishes. And every year, you can find massive paellas being cooked at festivals across Spain that serve thousands of people. #food #paella #spain #seafood\n",
      "------------------------------------------------------------------------------------------\n",
      "Clean Kitchen Club is a vegan fast-food chain with four outlets in London.Its investors include Spencer Matthews, Grace Beverley, and former McDonald's CEO Steve Easterbrook.Insider reporters Grace Dean and Ryan Hogg checked out one site and found the dishes were very hit-and-miss, but the decor was great.Tap the link in our bio for more.(Credit: Grace Dean and Ryan Hogg/Insider)\n",
      "------------------------------------------------------------------------------------------\n",
      "We went to 10 different bakeries in NYC to find the tastiest, gooeist chocolate chip cookie. Here's our top 5 picks. #chocolatechipcookie #bakery #nyc #foodinsider\n",
      "------------------------------------------------------------------------------------------\n",
      "Brazil is the world's biggest producer of coffee. The harvesting process is meticulous and takes time, as planted seeds take five years to produce the cherries where the beans are found inside. #coffee #coffeebeans #agriculture #foodinsider\n",
      "------------------------------------------------------------------------------------------\n",
      "Jon & Vinny's in LA. is home to the Ham & Yeezy pizza.Their dishes are inspired by Italian classics that the chefs' grandmothers used to make, but with fresh ingredients from the local farmers markets.The Ham and Yeezy was overall a very dense pie and a bit too cheesy!Click the link in our bio to read more.Story by Anneta Konstantinides(Credit: Kim Kardashian/Instagram/Anneta Konstantinides/Insider)\n",
      "------------------------------------------------------------------------------------------\n",
      "Papa John’s is borrowing a tactic from Chipotle, and it might give the chain a competitive advantage.The unorthodox variation on pizza might give Papa John’s a key competitive advantage, according to restaurant industry analyst and CEO of Kalinowski Equity Associates Mark Kalinowski.The bowls, which are essentially pizza toppings without the pizza, come in three varieties: Italian meats trio, chicken alfredo, and garden veggie.“Most of the national chains don’t sell pizza bowls, so they will help Papa John’s differentiate itself from the competition,” Kalinowski told Insider in a phone call. Without a direct analog on other menus, the dish could give Papa John’s a competitive advantage, Kalinowski said. Click the link in our bio to learn more.Story by Mary Meisenzahl.(Credit: Papa John’s)\n",
      "------------------------------------------------------------------------------------------\n",
      "These are some of the food items one chef recommends you should not order for delivery from restaurants. The overall texture and experience of your meal can drastically change from the time it leaves the kitchen, to the time it is delivered at your doorstep. Story by Lizzy Briskin (Credit: Colleen Michaels/Shutterstock)\n",
      "------------------------------------------------------------------------------------------\n",
      "Tofu is soaked for ten hours before cooking begins at Ota, the oldest tofu factory in the US. This tofu is made from three ingredients: soybeans, water, and coagulant. #tofu #factory #howitsmade #foodinsider\n",
      "------------------------------------------------------------------------------------------\n",
      "Thieves broke into a famous Texas barbecue restaurant and stole thousands of dollars' worth of beef briskets, according to local reports.Austin's KVUE reported that a thief broke into la Barbecue at 4am Thursday local time, jumping over the side fence, cutting off the barbecue pit locks and loading more than 20 whole briskets into an SUV before driving off.Each brisket was worth $180, according to reports, meaning at least $3,500 worth of brisket appears to have been stolen. Tap the link in our bio for more.Story by Ryan Hogg.(Credit: Shutterstock)\n",
      "------------------------------------------------------------------------------------------\n",
      "A French scientist has apologized after posting an image to Twitter he claimed was a photo of a red star but was actually a snap of spicy Spanish sausage.Etienne Klein posted a photo on Twitter of what he claimed was the nearest star to the sun. The photo was actually an image of a spicy Spanish sausage called chorizo. Klein later apologized for the joking post, warning readers of \"cognitive bias.\"The viral tweet garnered varied reactions — some expressing disbelief or immediately catching on to the joke, while others criticized the director of research for France's Alternative Energies and Atomic Energy Commission for his timing and misusing his authority.Read more at the link in our bio.Story by Katherine Tangalakis-Lippert.(Credit: Getty Images)\n",
      "------------------------------------------------------------------------------------------\n",
      "Ghewar or Dry Fruits Pizza??😱😱.Kindly watch the full video for location, price and all other details🤗🤗.#foodieincarnate #sodelhi #newdelhi #foodtalkindia #delhigram #indianfood #delhifoodblogger #foodgasm #foodporn #foodpornshare #foodlover #foodgram #foodiesofinstagram #foodie #indianstreetfood #streetfood #delhistreetfood #streetfoodindia #mumbaistreetfood #delhifoodie #foodblogger #indianfoodie #desikhana #indianfoodblogger #indianfoodbloggers #delhifood #mumbai #delhi #ghaziabad #ghewar\n",
      "------------------------------------------------------------------------------------------\n",
      "Special Tasty Masala Pyara of Kolkata❤️👌🏻.Kindly watch the full video for location, price and all other details🤗🤗.#foodieincarnate #sodelhi #newdelhi #foodtalkindia #delhigram #indianfood #delhifoodblogger #foodgasm #foodporn #foodpornshare #foodlover #foodgram #foodiesofinstagram #foodie #indianstreetfood #streetfood #delhistreetfood #streetfoodindia #mumbaistreetfood #delhifoodie #foodblogger #indianfoodie #desikhana #indianfoodblogger #indianfoodbloggers #delhifood #mumbai #delhi #kolkata #guava\n",
      "------------------------------------------------------------------------------------------\n",
      "Ambanis, Bacchans, Kapoors..all have eaten Parathas here😳😳.📍Rambabu Paratha, Agra.#foodieincarnate #reelitfeelit #reelkarofeelkaro #reelsinstagram #reels #paratha #streetfood #viralfood #explore #agra\n",
      "------------------------------------------------------------------------------------------\n",
      "ऐसे बनाया जाता है WORLD'S TASTIEST PEDA😱😱 Since 1864😳😳.Kindly watch the full video for location, price and all other details🤗🤗.#foodieincarnate #sodelhi #newdelhi #foodtalkindia #delhigram #indianfood #delhifoodblogger #foodgasm #foodporn #foodpornshare #foodlover #foodgram #foodiesofinstagram #foodie #indianstreetfood #streetfood #delhistreetfood #streetfoodindia #mumbaistreetfood #delhifoodie #foodblogger #indianfoodie #desikhana #indianfoodblogger #indianfoodbloggers #delhifood #mumbai #delhi #vadodara #peda\n",
      "------------------------------------------------------------------------------------------\n",
      "Pinni Prasad of Takhat Shri Harimandir Sahib Patna🙏🏻🙏🏻.Watch the full video on my YouTube channel. Link is in my bio🤗🤗.#foodieincarnate #reelkarofeelkaro #reelitfeelit #reelsinstagram #reels #gurudwara #sikh #sikhism #sikhi #khalsa #gurugobindsinghji\n",
      "------------------------------------------------------------------------------------------\n",
      "Most Wanted Dosa of Gujarat🤩🤩.Kindly watch the full video for location, price and all other details🤗🤗.#foodieincarnate #sodelhi #newdelhi #foodtalkindia #delhigram #indianfood #delhifoodblogger #foodgasm #foodporn #foodpornshare #foodlover #foodgram #foodiesofinstagram #foodie #indianstreetfood #streetfood #delhistreetfood #streetfoodindia #mumbaistreetfood #delhifoodie #foodblogger #indianfoodie #desikhana #indianfoodblogger #indianfoodbloggers #delhifood #mumbai #delhi #vadodara #dosa\n",
      "------------------------------------------------------------------------------------------\n",
      "Extreme Making of Fox Nuts in India😱😱.Watch the full video on my YouTube channel. Link is in my bio🤗🤗.#foodieincarnate #reelitfeelit #reelkarofeelkaro #reelsinstagram #reels #makhana #foxnut #bihar #streetfood #viralfood #trending\n",
      "------------------------------------------------------------------------------------------\n",
      "Famous Pineapple Sharbat of Nashik🍍🍍 .Kindly watch the full video for location, price and all other details🤗🤗.#foodieincarnate #sodelhi #newdelhi #foodtalkindia #delhigram #indianfood #delhifoodblogger #foodgasm #foodporn #foodpornshare #foodlover #foodgram #foodiesofinstagram #foodie #indianstreetfood #streetfood #delhistreetfood #streetfoodindia #mumbaistreetfood #delhifoodie #foodblogger #indianfoodie #desikhana #indianfoodblogger #indianfoodbloggers #delhifood #mumbai #delhi #pineapple #nashik\n",
      "------------------------------------------------------------------------------------------\n",
      "HUGE 1Kg RimZim Sandwich of Surat in 120Rs/- only😱😱 .Kindly watch the full video for location, price and all other details🤗🤗.#foodieincarnate #sodelhi #newdelhi #foodtalkindia #delhigram #indianfood #delhifoodblogger #foodgasm #foodporn #foodpornshare #foodlover #foodgram #foodiesofinstagram #foodie #indianstreetfood #streetfood #delhistreetfood #streetfoodindia #mumbaistreetfood #delhifoodie #foodblogger #indianfoodie #desikhana #indianfoodblogger #indianfoodbloggers #delhifood #mumbai #delhi #sandwich #surat\n",
      "------------------------------------------------------------------------------------------\n",
      "Famous Moong Dal Bhajiya from outside Asha Parekh Hospital😍😍.In Santacruz, Mumbai..these is this small shop outside Asha Parekh Hospital that is famous for it's vada pav, bhajiya and five different type of chutneys. This shop is here from last 20 years and the taste of their vada pav as well as the bhajiya is so delicious!Their bhajiya is crunchy from the outside, soft from the inside and they serve it with a trio of spicy garlic, ginger-coriander and tamarind chutneys. Total satisfaction for your taste buds in just 20 Rs. Recommended.❤👍🏻.#foodieincarnate #sodelhi #foodtalkindia #newdelhi #delhigram #desifood #ruralindia #santacruz #mumbaifood #munbaifoodie #somumbai #pakora #indianrecipes #samosa #vadapav #bangalorefood #pavbhaji #bhajji #delhistreetfood #streetfoodindia #foodism #foodgasm #desikhana #mumbaifoodies #delhifoodblog #mumbaifoodlovers #goodfoodindia #sokolkata #chutney #snack\n",
      "------------------------------------------------------------------------------------------\n",
      "Rajouri Garden Ka Ek Aisa Restaurent Jo De Raha Hai Flat 50% Off On Food Bill From 27th August To 27th September Tak 😂😂. Maze Hai Rajouri Walo Ke Video Coming On 27th August 😍. #dilsefoodie #dilsecouple #Rajouri\n",
      "------------------------------------------------------------------------------------------\n",
      "Winters Is Coming Soon And Ye Vo Cheez Hai Jo Log Street Food Pe Maza Uthaate Hai Garam Garam Bread Omelette And Chai ❤️. #dilsefoodie #dilsecouple #Egg #Omelette\n",
      "------------------------------------------------------------------------------------------\n",
      "Tried This Mix Chaat At Garg Chaat, Chandigarh Hai Koi Garg Chaat Ka Deewana ??? Aur Tell Us Where People Get Best Chaat Options In Chandigarh? #dilsefoodie #dilsecouple\n",
      "------------------------------------------------------------------------------------------\n",
      "Happy 1st Wedding Anniversary 💕 Madly in Love with You ❤️❤️ #dilsefoodie #dilsecouple\n",
      "------------------------------------------------------------------------------------------\n",
      "OMG ! This Is Really Good News @ptal.in Opened Its First Outlet In GK M Block Market 😀. I really liked their products because its hand made and pure 😀. #dilsefoodie #dilsecouple #ptal\n",
      "------------------------------------------------------------------------------------------\n",
      "On The Occasion Of 75th Independence Day @ministryofculturegoi Awarded Us As One Of 75 Cultural Brand Ambassador Of India At @amritmahotsav. We Can't Express Our Feelings In Words. But We Will Promise You Guys We Will Keep Exploring India And Will Help Local Vendors. Government Of India Is Doing A Campaign #harghartiranga So I Will Hoist Tiranga At My Place Tomorrow And You Guys Also Participate. #75For75 #amritmohatsav #DilSeDesi #dilsefoodie\n",
      "------------------------------------------------------------------------------------------\n",
      "Din Beete Saara Teri Fikr Mai @dilsecouple #dilsefoodie #dilsecouple\n",
      "------------------------------------------------------------------------------------------\n",
      "Any Dal Makhani Lover Here ???? Where We Can Get Best Dal Makhani In Delhi ??? #dilsefoodie #dilsecouple #dalmakhani\n",
      "------------------------------------------------------------------------------------------\n",
      "The Original Pal Dhaba At Chandigarh 😀Overhyped Or Good One ? #dilsefoodie #dilsecouple #PalDhaba\n",
      "------------------------------------------------------------------------------------------\n",
      "Tikka Junction Is Now Open in Paschim Vihar #dilsefoodie #dilsecouple #tikkajunction\n",
      "------------------------------------------------------------------------------------------\n",
      "Pitta stuffed with a folded burger with a golden crown of English Cheddar 🤤 🥙 📍 @miznonlondon\n",
      "------------------------------------------------------------------------------------------\n",
      "Jerk chicken goals 🔥 📍 @koolrunnings_ 📸 @ediblebible\n",
      "------------------------------------------------------------------------------------------\n",
      "Two Gyros is Better than One 😏 am I right? 📍 @thatziki 📸 @somebodyfeedkaz\n",
      "------------------------------------------------------------------------------------------\n",
      "How you doin’? 🤤 📍 @tommisburgerjointuk 📸 @angelalikesfood\n",
      "------------------------------------------------------------------------------------------\n",
      "What are you having for lunch? 🤔 This Crispy Tandoori Chicken Roti with Lettuce, Salsa & Peri Peri Mayo looks 🔥 📍 @beescoffeepot\n",
      "------------------------------------------------------------------------------------------\n",
      "Rockfish pizza 🤩 Topped with Lyme Bay mussels, spicy Nduja sausage, and sweet Piennolo tomatoes to create a glorious anglo-italian surf ‘n turf!📍 @pizzapilgrims\n",
      "------------------------------------------------------------------------------------------\n",
      "Blame it on the whisky burger 🤩 📍 @almostfamous 📸 @charlotteats_\n",
      "------------------------------------------------------------------------------------------\n",
      "Tofu Pad Thai 🍜 📍 @zaap_thai_streetfood 📸 @inspiringgbites\n",
      "------------------------------------------------------------------------------------------\n",
      "Just a light snack 😏📍 @twostacks.brgr 📸 @perthdudefood\n",
      "------------------------------------------------------------------------------------------\n",
      "Anyone else getting a takeaway this evening? 🙋 Chicken Battered Balls, Salt & Chilli Chips, Chow Mein & Curry Sauce 🥡 📍 @purelybeltabait\n",
      "------------------------------------------------------------------------------------------\n"
     ]
    }
   ],
   "source": [
    "for i in contents:\n",
    "    print(i)\n",
    "    print('------------------------------------------------------------------------------------------')"
   ]
  },
  {
   "cell_type": "markdown",
   "id": "dec4456f",
   "metadata": {},
   "source": [
    "### 2.2-Prepare a list of all words used in all the scraped posts and calculate the frequency of each word."
   ]
  },
  {
   "cell_type": "markdown",
   "id": "dfdeed67",
   "metadata": {},
   "source": [
    "### Here I am using contents list to extract all hash_tags words"
   ]
  },
  {
   "cell_type": "code",
   "execution_count": 22,
   "id": "a253e60f",
   "metadata": {},
   "outputs": [],
   "source": [
    "def All_words_freq(contents):\n",
    "    hash_tags = []\n",
    "    for i in contents:\n",
    "        li = i.split()\n",
    "        hash_tags.append(li)\n",
    "        \n",
    "    hash_tags_dict = {}\n",
    "    for word in hash_tags:\n",
    "        for j in word:\n",
    "            if j[0] == '#' and '@' not in j:\n",
    "                # remove '#' and add in hash_tags_dict \n",
    "                if j[1:] in hash_tags_dict:\n",
    "                    hash_tags_dict[j[1:]] += 1\n",
    "                else:\n",
    "                    hash_tags_dict[j[1:]] = 1\n",
    "    return hash_tags_dict"
   ]
  },
  {
   "cell_type": "code",
   "execution_count": 23,
   "id": "1f3a7960",
   "metadata": {
    "scrolled": false
   },
   "outputs": [
    {
     "name": "stdout",
     "output_type": "stream",
     "text": [
      "food ---> 1  frequency\n",
      "paella ---> 1  frequency\n",
      "spain ---> 1  frequency\n",
      "seafood ---> 1  frequency\n",
      "chocolatechipcookie ---> 1  frequency\n",
      "bakery ---> 1  frequency\n",
      "nyc ---> 1  frequency\n",
      "foodinsider ---> 3  frequency\n",
      "coffee ---> 1  frequency\n",
      "coffeebeans ---> 1  frequency\n",
      "agriculture ---> 1  frequency\n",
      "tofu ---> 1  frequency\n",
      "factory ---> 1  frequency\n",
      "howitsmade ---> 1  frequency\n",
      "sodelhi ---> 7  frequency\n",
      "newdelhi ---> 7  frequency\n",
      "foodtalkindia ---> 7  frequency\n",
      "delhigram ---> 7  frequency\n",
      "indianfood ---> 6  frequency\n",
      "delhifoodblogger ---> 6  frequency\n",
      "foodgasm ---> 7  frequency\n",
      "foodporn ---> 6  frequency\n",
      "foodpornshare ---> 6  frequency\n",
      "foodlover ---> 6  frequency\n",
      "foodgram ---> 6  frequency\n",
      "foodiesofinstagram ---> 6  frequency\n",
      "foodie ---> 6  frequency\n",
      "indianstreetfood ---> 6  frequency\n",
      "streetfood ---> 8  frequency\n",
      "delhistreetfood ---> 7  frequency\n",
      "streetfoodindia ---> 7  frequency\n",
      "mumbaistreetfood ---> 6  frequency\n",
      "delhifoodie ---> 6  frequency\n",
      "foodblogger ---> 6  frequency\n",
      "indianfoodie ---> 6  frequency\n",
      "desikhana ---> 7  frequency\n",
      "indianfoodblogger ---> 6  frequency\n",
      "indianfoodbloggers ---> 6  frequency\n",
      "delhifood ---> 6  frequency\n",
      "mumbai ---> 6  frequency\n",
      "delhi ---> 6  frequency\n",
      "ghaziabad ---> 1  frequency\n",
      "ghewar ---> 1  frequency\n",
      "kolkata ---> 1  frequency\n",
      "guava ---> 1  frequency\n",
      "reelitfeelit ---> 3  frequency\n",
      "reelkarofeelkaro ---> 3  frequency\n",
      "reelsinstagram ---> 3  frequency\n",
      "reels ---> 3  frequency\n",
      "paratha ---> 1  frequency\n",
      "viralfood ---> 2  frequency\n",
      "explore ---> 1  frequency\n",
      "agra ---> 1  frequency\n",
      "vadodara ---> 2  frequency\n",
      "peda ---> 1  frequency\n",
      "gurudwara ---> 1  frequency\n",
      "sikh ---> 1  frequency\n",
      "sikhism ---> 1  frequency\n",
      "sikhi ---> 1  frequency\n",
      "khalsa ---> 1  frequency\n",
      "gurugobindsinghji ---> 1  frequency\n",
      "dosa ---> 1  frequency\n",
      "makhana ---> 1  frequency\n",
      "foxnut ---> 1  frequency\n",
      "bihar ---> 1  frequency\n",
      "trending ---> 1  frequency\n",
      "pineapple ---> 1  frequency\n",
      "nashik ---> 1  frequency\n",
      "sandwich ---> 1  frequency\n",
      "surat ---> 1  frequency\n",
      "desifood ---> 1  frequency\n",
      "ruralindia ---> 1  frequency\n",
      "santacruz ---> 1  frequency\n",
      "mumbaifood ---> 1  frequency\n",
      "munbaifoodie ---> 1  frequency\n",
      "somumbai ---> 1  frequency\n",
      "pakora ---> 1  frequency\n",
      "indianrecipes ---> 1  frequency\n",
      "samosa ---> 1  frequency\n",
      "vadapav ---> 1  frequency\n",
      "bangalorefood ---> 1  frequency\n",
      "pavbhaji ---> 1  frequency\n",
      "bhajji ---> 1  frequency\n",
      "foodism ---> 1  frequency\n",
      "mumbaifoodies ---> 1  frequency\n",
      "delhifoodblog ---> 1  frequency\n",
      "mumbaifoodlovers ---> 1  frequency\n",
      "goodfoodindia ---> 1  frequency\n",
      "sokolkata ---> 1  frequency\n",
      "chutney ---> 1  frequency\n",
      "snack ---> 1  frequency\n",
      "dilsefoodie ---> 10  frequency\n",
      "dilsecouple ---> 9  frequency\n",
      "Rajouri ---> 1  frequency\n",
      "Egg ---> 1  frequency\n",
      "Omelette ---> 1  frequency\n",
      "ptal ---> 1  frequency\n",
      "harghartiranga ---> 1  frequency\n",
      "75For75 ---> 1  frequency\n",
      "amritmohatsav ---> 1  frequency\n",
      "DilSeDesi ---> 1  frequency\n",
      "dalmakhani ---> 1  frequency\n",
      "PalDhaba ---> 1  frequency\n",
      "tikkajunction ---> 1  frequency\n"
     ]
    }
   ],
   "source": [
    "all_words = All_words_freq(contents)\n",
    "\n",
    "for key in all_words:\n",
    "    print(key, '--->', all_words[key], ' frequency')"
   ]
  },
  {
   "cell_type": "markdown",
   "id": "6792fe2a",
   "metadata": {},
   "source": [
    "### 2.3-Create a csv file with two columns : the word and its frequency"
   ]
  },
  {
   "cell_type": "code",
   "execution_count": 26,
   "id": "a265d75d",
   "metadata": {},
   "outputs": [],
   "source": [
    "word = []\n",
    "freq = []\n",
    "for key in all_words:\n",
    "    word.append(key)\n",
    "    freq.append(all_words[key])\n",
    "# create np array\n",
    "np_word = np.array(word)\n",
    "np_freq = np.array(freq)\n",
    "# create data frame using pandas library \n",
    "data_frame = pd.DataFrame(list(zip(word, freq)), columns = ['Word', 'Frequency'])"
   ]
  },
  {
   "cell_type": "code",
   "execution_count": 27,
   "id": "82529633",
   "metadata": {},
   "outputs": [
    {
     "data": {
      "text/html": [
       "<div>\n",
       "<style scoped>\n",
       "    .dataframe tbody tr th:only-of-type {\n",
       "        vertical-align: middle;\n",
       "    }\n",
       "\n",
       "    .dataframe tbody tr th {\n",
       "        vertical-align: top;\n",
       "    }\n",
       "\n",
       "    .dataframe thead th {\n",
       "        text-align: right;\n",
       "    }\n",
       "</style>\n",
       "<table border=\"1\" class=\"dataframe\">\n",
       "  <thead>\n",
       "    <tr style=\"text-align: right;\">\n",
       "      <th></th>\n",
       "      <th>Word</th>\n",
       "      <th>Frequency</th>\n",
       "    </tr>\n",
       "  </thead>\n",
       "  <tbody>\n",
       "    <tr>\n",
       "      <th>0</th>\n",
       "      <td>food</td>\n",
       "      <td>1</td>\n",
       "    </tr>\n",
       "    <tr>\n",
       "      <th>1</th>\n",
       "      <td>paella</td>\n",
       "      <td>1</td>\n",
       "    </tr>\n",
       "    <tr>\n",
       "      <th>2</th>\n",
       "      <td>spain</td>\n",
       "      <td>1</td>\n",
       "    </tr>\n",
       "    <tr>\n",
       "      <th>3</th>\n",
       "      <td>seafood</td>\n",
       "      <td>1</td>\n",
       "    </tr>\n",
       "    <tr>\n",
       "      <th>4</th>\n",
       "      <td>chocolatechipcookie</td>\n",
       "      <td>1</td>\n",
       "    </tr>\n",
       "    <tr>\n",
       "      <th>...</th>\n",
       "      <td>...</td>\n",
       "      <td>...</td>\n",
       "    </tr>\n",
       "    <tr>\n",
       "      <th>99</th>\n",
       "      <td>amritmohatsav</td>\n",
       "      <td>1</td>\n",
       "    </tr>\n",
       "    <tr>\n",
       "      <th>100</th>\n",
       "      <td>DilSeDesi</td>\n",
       "      <td>1</td>\n",
       "    </tr>\n",
       "    <tr>\n",
       "      <th>101</th>\n",
       "      <td>dalmakhani</td>\n",
       "      <td>1</td>\n",
       "    </tr>\n",
       "    <tr>\n",
       "      <th>102</th>\n",
       "      <td>PalDhaba</td>\n",
       "      <td>1</td>\n",
       "    </tr>\n",
       "    <tr>\n",
       "      <th>103</th>\n",
       "      <td>tikkajunction</td>\n",
       "      <td>1</td>\n",
       "    </tr>\n",
       "  </tbody>\n",
       "</table>\n",
       "<p>104 rows × 2 columns</p>\n",
       "</div>"
      ],
      "text/plain": [
       "                    Word  Frequency\n",
       "0                   food          1\n",
       "1                 paella          1\n",
       "2                  spain          1\n",
       "3                seafood          1\n",
       "4    chocolatechipcookie          1\n",
       "..                   ...        ...\n",
       "99         amritmohatsav          1\n",
       "100            DilSeDesi          1\n",
       "101           dalmakhani          1\n",
       "102             PalDhaba          1\n",
       "103        tikkajunction          1\n",
       "\n",
       "[104 rows x 2 columns]"
      ]
     },
     "execution_count": 27,
     "metadata": {},
     "output_type": "execute_result"
    }
   ],
   "source": [
    "data_frame"
   ]
  },
  {
   "cell_type": "code",
   "execution_count": 28,
   "id": "c675d36f",
   "metadata": {},
   "outputs": [],
   "source": [
    "# create csv file name 'word_and_its_frequency.csv' using pandas and download csv file\n",
    "data_frame.to_csv('word_and_its_frequency.csv', index=False)"
   ]
  },
  {
   "cell_type": "markdown",
   "id": "17233502",
   "metadata": {},
   "source": [
    "### 2.4-Now, find the hashtags that were most popular among these bloggers"
   ]
  },
  {
   "cell_type": "markdown",
   "id": "7831f510",
   "metadata": {},
   "source": [
    "We have two array named word and freq"
   ]
  },
  {
   "cell_type": "code",
   "execution_count": 29,
   "id": "ba22e8c6",
   "metadata": {},
   "outputs": [],
   "source": [
    "# sort both array in descending order\n",
    "np_word = np_word[np.argsort(np_freq)][::-1]\n",
    "np_freq = np_freq[np.argsort(np_freq)][::-1]"
   ]
  },
  {
   "cell_type": "code",
   "execution_count": 30,
   "id": "de7f0a29",
   "metadata": {
    "scrolled": false
   },
   "outputs": [
    {
     "name": "stdout",
     "output_type": "stream",
     "text": [
      "dilsefoodie --> 10\n",
      "dilsecouple --> 9\n",
      "streetfood --> 8\n",
      "sodelhi --> 7\n",
      "delhigram --> 7\n",
      "newdelhi --> 7\n",
      "desikhana --> 7\n",
      "foodgasm --> 7\n",
      "foodtalkindia --> 7\n",
      "delhistreetfood --> 7\n",
      "streetfoodindia --> 7\n",
      "foodlover --> 6\n",
      "foodblogger --> 6\n",
      "foodiesofinstagram --> 6\n",
      "foodie --> 6\n",
      "foodporn --> 6\n",
      "indianstreetfood --> 6\n",
      "delhifoodblogger --> 6\n",
      "indianfood --> 6\n",
      "foodpornshare --> 6\n",
      "foodgram --> 6\n",
      "delhifoodie --> 6\n",
      "indianfoodie --> 6\n",
      "indianfoodblogger --> 6\n",
      "indianfoodbloggers --> 6\n",
      "delhifood --> 6\n",
      "mumbai --> 6\n",
      "delhi --> 6\n",
      "mumbaistreetfood --> 6\n",
      "foodinsider --> 3\n",
      "reelitfeelit --> 3\n",
      "reelkarofeelkaro --> 3\n",
      "reelsinstagram --> 3\n",
      "reels --> 3\n",
      "vadodara --> 2\n",
      "viralfood --> 2\n",
      "paratha --> 1\n",
      "howitsmade --> 1\n",
      "paella --> 1\n",
      "spain --> 1\n",
      "seafood --> 1\n",
      "chocolatechipcookie --> 1\n",
      "bakery --> 1\n",
      "guava --> 1\n",
      "kolkata --> 1\n",
      "ghewar --> 1\n",
      "ghaziabad --> 1\n",
      "nyc --> 1\n",
      "coffee --> 1\n",
      "coffeebeans --> 1\n",
      "agriculture --> 1\n",
      "tofu --> 1\n",
      "factory --> 1\n",
      "tikkajunction --> 1\n",
      "explore --> 1\n",
      "PalDhaba --> 1\n",
      "indianrecipes --> 1\n",
      "vadapav --> 1\n",
      "bangalorefood --> 1\n",
      "pavbhaji --> 1\n",
      "bhajji --> 1\n",
      "foodism --> 1\n",
      "mumbaifoodies --> 1\n",
      "delhifoodblog --> 1\n",
      "mumbaifoodlovers --> 1\n",
      "goodfoodindia --> 1\n",
      "sokolkata --> 1\n",
      "chutney --> 1\n",
      "snack --> 1\n",
      "Rajouri --> 1\n",
      "Egg --> 1\n",
      "Omelette --> 1\n",
      "ptal --> 1\n",
      "harghartiranga --> 1\n",
      "75For75 --> 1\n",
      "amritmohatsav --> 1\n",
      "DilSeDesi --> 1\n",
      "dalmakhani --> 1\n",
      "samosa --> 1\n",
      "pakora --> 1\n",
      "agra --> 1\n",
      "somumbai --> 1\n",
      "peda --> 1\n",
      "gurudwara --> 1\n",
      "sikh --> 1\n",
      "sikhism --> 1\n",
      "sikhi --> 1\n",
      "khalsa --> 1\n",
      "gurugobindsinghji --> 1\n",
      "dosa --> 1\n",
      "makhana --> 1\n",
      "foxnut --> 1\n",
      "bihar --> 1\n",
      "trending --> 1\n",
      "pineapple --> 1\n",
      "nashik --> 1\n",
      "sandwich --> 1\n",
      "surat --> 1\n",
      "desifood --> 1\n",
      "ruralindia --> 1\n",
      "santacruz --> 1\n",
      "mumbaifood --> 1\n",
      "munbaifoodie --> 1\n",
      "food --> 1\n"
     ]
    }
   ],
   "source": [
    "for i in range(len(np_word)):\n",
    "    print(np_word[i], '-->', np_freq[i])"
   ]
  },
  {
   "cell_type": "markdown",
   "id": "42503fe9",
   "metadata": {},
   "source": [
    "### 2.5-Plot a Pie Chart of the top 5 hashtags obtained and the number of times they were used by these bloggers in the scraped posts."
   ]
  },
  {
   "cell_type": "code",
   "execution_count": 31,
   "id": "04f9b686",
   "metadata": {},
   "outputs": [
    {
     "data": {
      "image/png": "[encoded data removed]",
      "text/plain": [
       "<Figure size 432x288 with 1 Axes>"
      ]
     },
     "metadata": {},
     "output_type": "display_data"
    }
   ],
   "source": [
    "x = np_word[:5]\n",
    "y = np_freq[:5]\n",
    "# plot a pie chart\n",
    "plt.pie(y, labels = x, autopct = '%.2f%%', radius = 1.5)\n",
    "plt.show()"
   ]
  },
  {
   "cell_type": "markdown",
   "id": "cc96c4e5",
   "metadata": {},
   "source": [
    "# Question-3 You need to also calculate average followers : likes ratio for the obtained handles.\n",
    "# Followers : Likes ratio is calculated as follows:"
   ]
  },
  {
   "cell_type": "markdown",
   "id": "62a2d6af",
   "metadata": {},
   "source": [
    "### 3.1-Find out the likes of the top 10 posts of the 5 handles obtained earlier."
   ]
  },
  {
   "cell_type": "markdown",
   "id": "9795e26f",
   "metadata": {},
   "source": [
    "Here I am using top 5 handles list obtained earlier"
   ]
  },
  {
   "cell_type": "code",
   "execution_count": 32,
   "id": "a66cb4fc",
   "metadata": {},
   "outputs": [],
   "source": [
    "def posts_of_5_handles(Top5):\n",
    "    top5handles = {}\n",
    "    for blog in Top5:\n",
    "        # search food bloger\n",
    "        search = WebDriverWait(driver, 10).until(EC.element_to_be_clickable((By.XPATH, \"//input[@placeholder='Search']\")))\n",
    "        search.send_keys(blog)\n",
    "\n",
    "        # hit Enter post\n",
    "        driver.implicitly_wait(1)\n",
    "        enter = WebDriverWait(driver, 10).until(EC.element_to_be_clickable((By.XPATH, \"//div[starts-with(@class,'_abnx')]/div\")))\n",
    "        enter.click()\n",
    "\n",
    "        time.sleep(1)\n",
    "        # go to post\n",
    "        enter_post = WebDriverWait(driver, 10).until(EC.presence_of_element_located((By.XPATH, \"//div[contains(@class, '_aabd _aa8k _aanf')]\")))  \n",
    "        enter_post.click() \n",
    "        time.sleep(1)\n",
    "        # count first 10 posts likes\n",
    "        count = 0\n",
    "        for k in range(10):\n",
    "            try:\n",
    "                like = WebDriverWait(driver, 10).until(EC.presence_of_all_elements_located((By.XPATH, \"//div[contains(@class, '_aacl _aaco _aacw _adda')]\")))   \n",
    "                for i in like:\n",
    "                    html = i.get_attribute('innerHTML')\n",
    "                    data = BeautifulSoup(html, 'html.parser').find('span')\n",
    "                    if data != None:\n",
    "                        likes = data.string\n",
    "                        if '0' in likes or '1' in likes or '2' in likes or '3' in likes or '4' in likes or '5' in likes :  \n",
    "                            # remove comma in likes and convert into int value\n",
    "                            likes = int(likes.replace(\",\",\"\"))\n",
    "                            count += likes\n",
    "                time.sleep(1)\n",
    "                # go to next post\n",
    "                driver.find_element_by_xpath(\"//div[contains(@class,' _aaqg _aaqh')]/button\").click()\n",
    "                time.sleep(1)\n",
    "            except TypeError:\n",
    "                like = WebDriverWait(driver, 10).until(EC.presence_of_element_located((By.XPATH, \"//div[contains(@class, '_aacl _aaco _aacw _adda _aacx _aada _aade')]/span\")))    \n",
    "                likes = like.text\n",
    "                # remove comma in likes and convert into int value\n",
    "                likes = int(likes.replace(\",\", \"\"))\n",
    "                count += likes\n",
    "                time.sleep(1)\n",
    "                # go to next post\n",
    "                driver.find_element_by_xpath(\"//div[contains(@class,' _aaqg _aaqh')]/button\").click()\n",
    "                time.sleep(1)\n",
    "        # add handle as a key and total count as a value in top5handles dict\n",
    "        top5handles[blog] = count\n",
    "        driver.back()\n",
    "        time.sleep(1)\n",
    "        # clear search box using xpath\n",
    "        search = driver.find_element_by_xpath('//span[starts-with(@class, \"_aawc\")]').click()\n",
    "        time.sleep(0.5)\n",
    "        driver.find_element_by_xpath('//div[starts-with(@class, \"_aawn\")]').click()\n",
    "        # back page\n",
    "        time.sleep(1)\n",
    "    return top5handles"
   ]
  },
  {
   "cell_type": "code",
   "execution_count": 33,
   "id": "2f70574f",
   "metadata": {},
   "outputs": [],
   "source": [
    "# call posts_of_5_handles fun to get a dict of 5 handles and its total likes of 10 posts\n",
    "Top5Handles = posts_of_5_handles(Top5)"
   ]
  },
  {
   "cell_type": "code",
   "execution_count": 34,
   "id": "7b91f377",
   "metadata": {},
   "outputs": [
    {
     "name": "stdout",
     "output_type": "stream",
     "text": [
      "foodgod --> total Likes 312751 of 10 Posts\n",
      "foodinsider --> total Likes 88210 of 10 Posts\n",
      "foodie_incarnate --> total Likes 1440093 of 10 Posts\n",
      "dilsefoodie --> total Likes 89542 of 10 Posts\n",
      "foodbible --> total Likes 11767 of 10 Posts\n"
     ]
    }
   ],
   "source": [
    "for key in Top5Handles:\n",
    "    print(key, '-->','total Likes' ,Top5Handles[key], 'of 10 Posts')"
   ]
  },
  {
   "cell_type": "markdown",
   "id": "0f923883",
   "metadata": {},
   "source": [
    "#### Plot a bar graph between the 5 handles obtained and total likes of first 10 posts"
   ]
  },
  {
   "cell_type": "code",
   "execution_count": 35,
   "id": "a4fa8fdd",
   "metadata": {},
   "outputs": [
    {
     "data": {
      "image/png": "[encoded data removed]",
      "text/plain": [
       "<Figure size 576x432 with 1 Axes>"
      ]
     },
     "metadata": {
      "needs_background": "light"
     },
     "output_type": "display_data"
    }
   ],
   "source": [
    "Likes10Posts = []\n",
    "top5_handles = []\n",
    "for i in Top5Handles:\n",
    "    top5_handles.append(i)\n",
    "    Likes10Posts.append(Top5Handles[i])\n",
    "    \n",
    "    \n",
    "\n",
    "# plot a bar bar graph using Likes10Posts and handles\n",
    "plt.subplots(figsize=(8, 6))\n",
    "plt.bar(top5_handles, Likes10Posts, color='green')\n",
    "plt.title('Total likes of top 10 posts of the 5 handles', size=13)\n",
    "plt.xticks(rotation=45)\n",
    "plt.xlabel('Users', size=12)\n",
    "plt.ylabel('Total Likes', size=12)\n",
    "plt.grid()\n",
    "plt.show()"
   ]
  },
  {
   "cell_type": "markdown",
   "id": "f3cf7988",
   "metadata": {},
   "source": [
    "### 3.2-Calculate the average likes for a handle."
   ]
  },
  {
   "cell_type": "markdown",
   "id": "76ed6ec0",
   "metadata": {},
   "source": [
    "To calculate the average likes, we need to top5 handles list and Likes10Posts which I have obtained previous Question "
   ]
  },
  {
   "cell_type": "code",
   "execution_count": 36,
   "id": "2ece9e88",
   "metadata": {
    "scrolled": true
   },
   "outputs": [
    {
     "name": "stdout",
     "output_type": "stream",
     "text": [
      "foodgod  :  31275 average likes\n",
      "foodinsider  :  8821 average likes\n",
      "foodie_incarnate  :  144009 average likes\n",
      "dilsefoodie  :  8954 average likes\n",
      "foodbible  :  1177 average likes\n"
     ]
    }
   ],
   "source": [
    "avg_likes = []\n",
    "for i in range(5):\n",
    "    # to find the average likes for a handle, we need to divide total_likes by 10\n",
    "    average_likes =  int(format(Likes10Posts[i]/10, '.0f'))\n",
    "    avg_likes.append(average_likes)\n",
    "    print(top5_handles[i], ' : ', average_likes, 'average likes')"
   ]
  },
  {
   "cell_type": "markdown",
   "id": "501c1bc8",
   "metadata": {},
   "source": [
    "Plot a Bar Graph to depict the above obtained information."
   ]
  },
  {
   "cell_type": "code",
   "execution_count": 37,
   "id": "f66db95d",
   "metadata": {},
   "outputs": [
    {
     "data": {
      "image/png": "[encoded data removed]",
      "text/plain": [
       "<Figure size 576x432 with 1 Axes>"
      ]
     },
     "metadata": {
      "needs_background": "light"
     },
     "output_type": "display_data"
    }
   ],
   "source": [
    "plt.subplots(figsize=(8, 6))\n",
    "# plot a bar graph using top5_handles list and avg_likes which is obtained\n",
    "plt.bar(top5_handles, avg_likes, color='skyblue')\n",
    "plt.title(\"Average Likes\", size=12)\n",
    "plt.xticks(rotation=45)\n",
    "plt.xlabel('Users', size=12)\n",
    "plt.ylabel('Averge of Likes', size=12)\n",
    "plt.grid()\n",
    "plt.show()\n"
   ]
  },
  {
   "cell_type": "markdown",
   "id": "83fe580e",
   "metadata": {},
   "source": [
    "### 3.3-Divide the average likes obtained from the number of followers of the handle to get the average followers:like ratio of each handle."
   ]
  },
  {
   "cell_type": "code",
   "execution_count": 38,
   "id": "51063834",
   "metadata": {},
   "outputs": [
    {
     "data": {
      "text/plain": [
       "[3886062, 2320813, 1374495, 1027793, 934928]"
      ]
     },
     "execution_count": 38,
     "metadata": {},
     "output_type": "execute_result"
    }
   ],
   "source": [
    "# here I am taking no_of_follower list which is obtained by 1.3 question\n",
    "no_of_follower"
   ]
  },
  {
   "cell_type": "code",
   "execution_count": 39,
   "id": "8a2ef562",
   "metadata": {},
   "outputs": [
    {
     "data": {
      "text/plain": [
       "[31275, 8821, 144009, 8954, 1177]"
      ]
     },
     "execution_count": 39,
     "metadata": {},
     "output_type": "execute_result"
    }
   ],
   "source": [
    "# average likes obtained previous question 3.2\n",
    "avg_likes"
   ]
  },
  {
   "cell_type": "code",
   "execution_count": 40,
   "id": "32f2f49d",
   "metadata": {},
   "outputs": [
    {
     "name": "stdout",
     "output_type": "stream",
     "text": [
      "foodgod  :  Average followers are  124\n",
      "foodinsider  :  Average followers are  263\n",
      "foodie_incarnate  :  Average followers are  10\n",
      "dilsefoodie  :  Average followers are  115\n",
      "foodbible  :  Average followers are  794\n"
     ]
    }
   ],
   "source": [
    "avg_followers = []\n",
    "for i in range(len(avg_likes)):\n",
    "    avg_f = int(format(no_of_follower[i]/avg_likes[i], '.0f'))\n",
    "    avg_followers.append(avg_f)\n",
    "    print(top5_handles[i], ' : ', 'Average followers are ', avg_f)"
   ]
  },
  {
   "cell_type": "markdown",
   "id": "f1ae83a9",
   "metadata": {},
   "source": [
    "### 3.4-Create a bar graph to depict the above obtained information."
   ]
  },
  {
   "cell_type": "code",
   "execution_count": 41,
   "id": "43e0df80",
   "metadata": {},
   "outputs": [],
   "source": [
    "top5_handles = np.array(top5_handles)\n",
    "avg_followers = np.array(avg_followers)\n",
    "\n",
    "top5_handles = top5_handles[np.argsort(avg_followers)]\n",
    "avg_followers = avg_followers[np.argsort(avg_followers)]\n"
   ]
  },
  {
   "cell_type": "code",
   "execution_count": 42,
   "id": "3dfbf12f",
   "metadata": {},
   "outputs": [
    {
     "data": {
      "image/png": "[encoded data removed]",
      "text/plain": [
       "<Figure size 576x432 with 1 Axes>"
      ]
     },
     "metadata": {
      "needs_background": "light"
     },
     "output_type": "display_data"
    }
   ],
   "source": [
    "plt.subplots(figsize=(8, 6))\n",
    "plt.bar(top5_handles, avg_followers, color='pink')\n",
    "plt.title(\"Average Followers\", size=12)\n",
    "plt.xticks(rotation=45)\n",
    "plt.xlabel('Users', size=12)\n",
    "plt.ylabel('Averge of follower', size=12)\n",
    "plt.grid()\n",
    "plt.show()\n"
   ]
  },
  {
   "cell_type": "markdown",
   "id": "85ec3798",
   "metadata": {},
   "source": [
    "### close the session of web driver"
   ]
  },
  {
   "cell_type": "code",
   "execution_count": 43,
   "id": "41f1d0e6",
   "metadata": {},
   "outputs": [],
   "source": [
    "driver.quit()"
   ]
  },
  {
   "cell_type": "code",
   "execution_count": null,
   "id": "1f1e53ef",
   "metadata": {},
   "outputs": [],
   "source": []
  }
 ],
 "metadata": {
  "kernelspec": {
   "display_name": "Python 3",
   "language": "python",
   "name": "python3"
  },
  "language_info": {
   "codemirror_mode": {
    "name": "ipython",
    "version": 3
   },
   "file_extension": ".py",
   "mimetype": "text/x-python",
   "name": "python",
   "nbconvert_exporter": "python",
   "pygments_lexer": "ipython3",
   "version": "3.8.8"
  }
 },
 "nbformat": 4,
 "nbformat_minor": 5
}
